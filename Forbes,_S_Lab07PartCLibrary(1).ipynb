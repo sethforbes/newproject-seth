{
  "nbformat": 4,
  "nbformat_minor": 0,
  "metadata": {
    "colab": {
      "provenance": [],
      "include_colab_link": true
    },
    "kernelspec": {
      "name": "python3",
      "display_name": "Python 3"
    }
  },
  "cells": [
    {
      "cell_type": "markdown",
      "metadata": {
        "id": "view-in-github",
        "colab_type": "text"
      },
      "source": [
        "<a href=\"https://colab.research.google.com/github/sethforbes/newproject-seth/blob/main/Forbes%2C_S_Lab07PartCLibrary(1).ipynb\" target=\"_parent\"><img src=\"https://colab.research.google.com/assets/colab-badge.svg\" alt=\"Open In Colab\"/></a>"
      ]
    },
    {
      "cell_type": "markdown",
      "source": [
        "#IS754 Lab 07 Part C: Library Inventory System\n"
      ],
      "metadata": {
        "id": "v8QM-DBclng5"
      }
    },
    {
      "cell_type": "markdown",
      "metadata": {
        "id": "npUJReM06dQw"
      },
      "source": [
        "# The Setup: Implementing a Library Inventory system using Classes"
      ]
    },
    {
      "cell_type": "markdown",
      "metadata": {
        "id": "IcxPgyQb6nd2"
      },
      "source": [
        "In this part of the lab you will work with some classes for establishing a library inventory system.  Start by reading the code below to familiarize yourself with it:"
      ]
    },
    {
      "cell_type": "code",
      "metadata": {
        "id": "ngP2frc66oXS"
      },
      "source": [
        "class Book:\n",
        "\n",
        "    # this method is called when a new Book object is created\n",
        "    # it initializes attributes for book\n",
        "    def __init__(self,call_no,title,author):\n",
        "        self.call_no = call_no\n",
        "        self.title = title\n",
        "        self.author = author\n",
        "\n",
        "    # the methods which follow allow us to get and set\n",
        "    # each of the attributes.\n",
        "    def getCallNo(self):\n",
        "        return self.call_no\n",
        "\n",
        "    def setCallNo(self,value):\n",
        "        self.call_no = value\n",
        "\n",
        "    def getTitle(self):\n",
        "        return self.title\n",
        "\n",
        "    def setTitle(self,value):\n",
        "        self.title = value\n",
        "\n",
        "    def getAuthor(self):\n",
        "        return self.author\n",
        "\n",
        "    def setAuthor(self,value):\n",
        "        self.author = value\n",
        "\n",
        "    def show(self):\n",
        "        print(\"Book: \" + str(self.call_no) + \": '\" + self.title +\"' by \" + self.author)\n"
      ],
      "execution_count": null,
      "outputs": []
    },
    {
      "cell_type": "code",
      "metadata": {
        "id": "DFwrcBJv6whA"
      },
      "source": [
        "# patron.py\n",
        "class Patron:\n",
        "\n",
        "    # set Patron ID and Name attributes\n",
        "    # new patron has no books out so we create new empty patron_books list\n",
        "    def __init__(self,patron_id,patron_name):\n",
        "        self.patron_id = patron_id\n",
        "        self.patron_name = patron_name\n",
        "        self.patron_books = {}\n",
        "\n",
        "\n",
        "    def getPatronId(self):\n",
        "        return self.patron_id\n",
        "\n",
        "\n",
        "    def setPatronId(self,value):\n",
        "        self.patron_id = value\n",
        "\n",
        "\n",
        "    def getPatronName(self):\n",
        "        return self.patron_name\n",
        "\n",
        "\n",
        "    def setPatronName(self,value):\n",
        "        self.patron_name = value\n",
        "\n",
        "\n",
        "    # check_out adds a new book to self.patron_books\n",
        "    # the parameter should be a book object\n",
        "    def checkOut(self,book):\n",
        "        self.patron_books[book.call_no] = book\n",
        "\n",
        "\n",
        "\n",
        "    # check_in removes specified book from self.patron_books\n",
        "    # the parameter here is a call_no\n",
        "    def checkIn(self,call_no):\n",
        "        del self.patron_books[call_no]\n",
        "\n",
        "\n",
        "    # display patron info including books checked out, if any\n",
        "    def show(self):\n",
        "        print(\"Patron \" + str(self.patron_id) + \": \" + self.patron_name)\n",
        "        if self.patron_books:\n",
        "            print(\"  Books currently out:\")\n",
        "            for key,value in self.patron_books.items():\n",
        "                print(\"    \" + key + \": '\" + value.getTitle() + '\"')\n",
        "        else:\n",
        "            print(\"  No books on loan\")"
      ],
      "execution_count": null,
      "outputs": []
    },
    {
      "cell_type": "markdown",
      "source": [
        "### Example code using Book and Patron classes:"
      ],
      "metadata": {
        "id": "spjMhhUOoeX0"
      }
    },
    {
      "cell_type": "code",
      "metadata": {
        "id": "kqa97sKr7AuO",
        "colab": {
          "base_uri": "https://localhost:8080/"
        },
        "outputId": "0e1a10de-5dc4-4c2a-a370-0be2526c267b"
      },
      "source": [
        "# example.py\n",
        "pat1 = Patron('1','John Doe')\n",
        "print(\"Created patron:\")\n",
        "pat1.show()\n",
        "book1 = Book('1',\"The Old Man and the Sea\",\"Earnest Hemingway\")\n",
        "print(\"Created book:\")\n",
        "book1.show()\n",
        "print(\"Checking out book...\")\n",
        "pat1.checkOut(book1)\n",
        "pat1.show()\n",
        "print(\"Checking in book...\")\n",
        "pat1.checkIn(book1.getCallNo())\n",
        "pat1.show()"
      ],
      "execution_count": null,
      "outputs": [
        {
          "output_type": "stream",
          "name": "stdout",
          "text": [
            "Created patron:\n",
            "Patron 1: John Doe\n",
            "  No books on loan\n",
            "Created book:\n",
            "Book: 1: 'The Old Man and the Sea' by Earnest Hemingway\n",
            "Checking out book...\n",
            "Patron 1: John Doe\n",
            "  Books currently out:\n",
            "    1: 'The Old Man and the Sea\"\n",
            "Checking in book...\n",
            "Patron 1: John Doe\n",
            "  No books on loan\n"
          ]
        }
      ]
    },
    {
      "cell_type": "markdown",
      "source": [
        "# Deliverable: Creating some new Books and Patrons"
      ],
      "metadata": {
        "id": "CD-IUcXrnaD1"
      }
    },
    {
      "cell_type": "markdown",
      "metadata": {
        "id": "XSK6kQgd8DD5"
      },
      "source": [
        "Now try it yourself. Create some new book objects and create some new patrons.Check some books out to a patron and then display the updated patron status. Check some books back in.\n",
        "\n"
      ]
    },
    {
      "cell_type": "code",
      "metadata": {
        "id": "sTBZ_Q5p8B6P",
        "colab": {
          "base_uri": "https://localhost:8080/"
        },
        "outputId": "3be02958-3531-471f-c7f7-9d38548d5519"
      },
      "source": [
        "# Add some new books\n",
        "book2 = Book('2',\"Love Live Laughter\", \"Gail Nightgale\")\n",
        "\n",
        "# Add some new patrons\n",
        "pat2 = Patron('2', \"Larelle\")\n",
        "pat3 = Patron('3', \"Lindsay\")\n",
        "\n",
        "# Check out some books to a patron and print their updated patron status.\n",
        "pat2.checkOut(book2)\n",
        "pat2.show()\n",
        "print(\"Checking in book...\")\n",
        "pat2.checkIn(book2.getCallNo())\n",
        "pat2.show()"
      ],
      "execution_count": null,
      "outputs": [
        {
          "output_type": "stream",
          "name": "stdout",
          "text": [
            "Patron 2: Larelle\n",
            "  Books currently out:\n",
            "    2: 'Love Live Laughter\"\n",
            "Checking in book...\n",
            "Patron 2: Larelle\n",
            "  No books on loan\n"
          ]
        }
      ]
    },
    {
      "cell_type": "markdown",
      "source": [
        "**Answer the following:**<BR>\n",
        "How would you edit an existing book?  Can you do that with this code?  What would you need to change?"
      ],
      "metadata": {
        "id": "iHPQRegJrSM1"
      }
    },
    {
      "cell_type": "markdown",
      "source": [
        "I don't think I'd be able to edit an existing book with this code, because \"changing\" the variable would only create a new instance for that particular object. I would need to use the class name only if I wanted to edit an existing book."
      ],
      "metadata": {
        "id": "MkNfX8-deWeU"
      }
    },
    {
      "cell_type": "markdown",
      "source": [
        "*write your answer here*"
      ],
      "metadata": {
        "id": "fC2XQB_frpHP"
      }
    },
    {
      "cell_type": "markdown",
      "source": [
        "# Deliverable: Adding a new class"
      ],
      "metadata": {
        "id": "EXNErd_rruMb"
      }
    },
    {
      "cell_type": "markdown",
      "metadata": {
        "id": "fl_N9aWm7tBR"
      },
      "source": [
        "Finally, define a new class, called Stock which can hold multiple copies of multiple different books. What types of properties would you need to define in stock in order to track this information?  What types of methods should be in Stock?\n",
        "\n",
        "Remember: Objects should have their own methods (functions) to handle how their state changes. So when a patron (e.g., pat1) has their method called to check out a book, it should now also have to specify which stock object it is checking those books out from (i.e., there could be multiple stocks -- think of each one as an independent local library that is part of interlibrary loan) and it should also call the stock's method to check out a book (i.e., a `Stock` also has a checkout book method).\n",
        "\n",
        "Hint: you will likely want to pass a reference from the current object as an argument to the method of another object. You can do this by passing self as an argument.\n",
        "\n",
        "Implement your Stock class below:"
      ]
    },
    {
      "cell_type": "code",
      "metadata": {
        "id": "Xye3IgZ181AJ"
      },
      "source": [
        "# Define a Stock class here\n",
        "class Stock:\n",
        "  def __init__(self,book,call_no,stock1, stock2, stock3):\n",
        "        self.book = book\n",
        "        self.call_no = call_no\n",
        "        self.stock1 = stock1\n",
        "        self.stock2 = stock2\n",
        "        self.stock3 = stock3\n",
        "\n",
        "  def checkOut(self,book,stock1, stock2, stock3):\n",
        "        self.book[book.call_no] = book\n",
        "\n",
        "  def checkIn(self,call_no):\n",
        "        del self.book[call_no]\n"
      ],
      "execution_count": null,
      "outputs": []
    },
    {
      "cell_type": "markdown",
      "source": [
        "# This lab part has deliverables.  When you have it complete, show it to a classmate and have them signoff the spreadsheet.  Then upload your .ipynb file to Blackboard."
      ],
      "metadata": {
        "id": "v6gojbERvt36"
      }
    }
  ]
}